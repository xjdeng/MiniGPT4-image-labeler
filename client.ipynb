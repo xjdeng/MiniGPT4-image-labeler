{
  "nbformat": 4,
  "nbformat_minor": 0,
  "metadata": {
    "colab": {
      "provenance": [],
      "authorship_tag": "ABX9TyN95N8INWbWOXoNGLLS5V2J",
      "include_colab_link": true
    },
    "kernelspec": {
      "name": "python3",
      "display_name": "Python 3"
    },
    "language_info": {
      "name": "python"
    }
  },
  "cells": [
    {
      "cell_type": "markdown",
      "metadata": {
        "id": "view-in-github",
        "colab_type": "text"
      },
      "source": [
        "<a href=\"https://colab.research.google.com/github/xjdeng/MiniGPT4-image-labeler/blob/main/client.ipynb\" target=\"_parent\"><img src=\"https://colab.research.google.com/assets/colab-badge.svg\" alt=\"Open In Colab\"/></a>"
      ]
    },
    {
      "cell_type": "markdown",
      "source": [
        "# Install and import requirements"
      ],
      "metadata": {
        "id": "DIcTwgFAjxju"
      }
    },
    {
      "cell_type": "code",
      "execution_count": null,
      "metadata": {
        "cellView": "form",
        "id": "f6wJ4b63ZIzs"
      },
      "outputs": [],
      "source": [
        "#@title\n",
        "!pip install path.py==12.0.1\n",
        "import base64\n",
        "import requests\n",
        "import time\n",
        "from path import Path as path\n",
        "import random\n",
        "import tempfile, cv2\n",
        "import pandas as pd\n",
        "from tqdm import tqdm"
      ]
    },
    {
      "cell_type": "markdown",
      "source": [
        "# Set your non-streaming server URL below\n",
        "Please run one of the server notebooks and follow the instructions to find this URL. Be sure to include the https:// part."
      ],
      "metadata": {
        "id": "rvfHC8U4ZaoG"
      }
    },
    {
      "cell_type": "code",
      "source": [
        "endpoint = \"https://admissions-fees-introducing-renew.trycloudflare.com/api\" #@param {type:\"string\"}\n"
      ],
      "metadata": {
        "cellView": "form",
        "id": "G_MynWdBZnVi"
      },
      "execution_count": 9,
      "outputs": []
    },
    {
      "cell_type": "markdown",
      "source": [
        "# Mount your Google Drive"
      ],
      "metadata": {
        "id": "7NyNIYLCZ3uG"
      }
    },
    {
      "cell_type": "code",
      "source": [
        "#@title\n",
        "from google.colab import drive\n",
        "drive.mount('/content/drive')"
      ],
      "metadata": {
        "cellView": "form",
        "id": "flFjUVPEZ8-Z"
      },
      "execution_count": null,
      "outputs": []
    },
    {
      "cell_type": "markdown",
      "source": [
        "# Edit the path to the image folder below\n",
        "\n",
        "If you didn't upload your images to the \"images\" folder at the top of your Google Drive, that's ok, please do the following then:\n",
        "- Just click the folder icon in the left margin\n",
        "- Browse down the /content/drive/MyDrive path until you find the folder with the images\n",
        "- Then click the 3 dots to the right of your target folder and select \"Copy Path\"\n",
        "- Then paste the path in the field below\n",
        "- Note that the algorithm will traverse down any subfolders under that folder and search for image files to label as well."
      ],
      "metadata": {
        "id": "xSxb7RzdaHa-"
      }
    },
    {
      "cell_type": "code",
      "source": [
        "imgfolder = \"/content/drive/MyDrive/images\" #@param {type:\"string\"}\n"
      ],
      "metadata": {
        "cellView": "form",
        "id": "4EuabUQvbArI"
      },
      "execution_count": 11,
      "outputs": []
    },
    {
      "cell_type": "markdown",
      "source": [
        "# Process Images\n",
        "\n",
        "You may need to adjust the prompt and the context if you're not getting good results but otherwise, I'd leave them alone.\n",
        "\n",
        "Note that if you don't check the \"resume\" box, it'll automatically overwrite any labels."
      ],
      "metadata": {
        "id": "s6RAmmZDbquo"
      }
    },
    {
      "cell_type": "code",
      "source": [
        "context = \"\\\"### Human: \\\\nHi!\\\\n### Assistant: \\\\nHi there! How can I help you today?\\\\n\\\"\" #@param {type:\"string\"}\n",
        "prompt = \"Confidently describe in 1 detailed sentence everything that you see in the photo.\" #@param {type:\"string\"}\n",
        "resume = True #@param {type:\"boolean\"}\n",
        "\n",
        "def label(a, prompt = prompt):\n",
        "    imgtype = \"data:image/jpeg;base64\"\n",
        "    tempdir = tempfile.TemporaryDirectory()\n",
        "    img = cv2.imread(a)\n",
        "    dest = \"{}/{}.jpg\".format(tempdir.name, str(path(a).stem))\n",
        "    cv2.imwrite(dest, img)\n",
        "    with open(dest, 'rb') as f:\n",
        "        img_str = base64.b64encode(f.read()).decode('utf-8')\n",
        "        prompt = context + f'### Human: \\n {prompt} \\n<img src=\"{imgtype},{img_str}\">\\n### Assistant: \\n'\n",
        "        return requests.post('{}/v1/generate'.format(endpoint), json={'prompt': prompt, 'stopping_strings': ['\\n###'], 'max_new_tokens' : 75, \\\n",
        "                                                                    'temperature': 0.7, 'repetition_penalty': 1.18, 'top_p': 0.1, \\\n",
        "                                                                    'encoder_repetition_penalty': 1, 'top_k': 40, 'no_repeat_ngram_size': 0, \\\n",
        "                                                                    'typical_p': 1, 'min_length': 0, 'do_sample': True, \\\n",
        "                                                                    \"penalty_alpha\": 0, 'num_beams': 1, 'length_penalty': 1,\n",
        "                                                                    'add_bos_token': True, 'skip_special_tokens': True}).json()['results'][0]['text']\n",
        "\n",
        "queue = list(path(imgfolder).walkfiles())\n",
        "random.shuffle(queue)\n",
        "for f in tqdm(queue):\n",
        "  namebase = f.stem\n",
        "  folder = str(f.dirname())\n",
        "  if f.ext == \".txt\":\n",
        "    continue\n",
        "  txtfile = path(\"{}/{}.txt\".format(folder, namebase))\n",
        "  if resume & (txtfile.exists()):\n",
        "    if txtfile.size > 0:\n",
        "      continue\n",
        "  try:\n",
        "    txt = label(f)\n",
        "    with open(txtfile,'w') as ff:\n",
        "      ff.write(txt)\n",
        "  except Exception as e:\n",
        "    print(\"Warning: could not label file {} due to Exception {}\".format(str(f), e))\n",
        "\n",
        "print(\"Done! We've labeled all of the images that we could!\")\n"
      ],
      "metadata": {
        "cellView": "form",
        "id": "77KmI6kKcg_J"
      },
      "execution_count": null,
      "outputs": []
    }
  ]
}